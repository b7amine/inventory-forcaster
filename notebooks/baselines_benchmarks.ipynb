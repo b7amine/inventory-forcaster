{
 "cells": [
  {
   "cell_type": "markdown",
   "metadata": {},
   "source": [
    "## Baselines and benchmarks \n",
    "\n",
    "### Model Evaluation\n",
    "This notebook evaluates different forecasting approaches, comparing error quantiles for each model:\n",
    "\n",
    "#### Seq2Seq Model\n",
    "- **Error Quantiles**: \n",
    "  - Min: 1\n",
    "  - 25%: 38\n",
    "  - 50%: 47\n",
    "  - 85%: 75\n",
    "  - 95%: 100\n",
    "  - Max: 513\n",
    "\n",
    "### Baseline Models\n",
    "1. **SARIMA**\n",
    "   - **Method**: Fit on the first 24 observations, then predict the next 4 steps using a sliding window, appending ground truth.\n",
    "   - **MAPE Quantiles**: \n",
    "     - Min: 18.14\n",
    "     - 25%: 54.63\n",
    "     - 50%: 76.06\n",
    "     - 85%: 137.59\n",
    "     - 95%: 196.25\n",
    "     - Max: --\n",
    "\n",
    "2. **Vanilla GRU**\n",
    "   - **Method**: Fitted individually on each SKU.\n",
    "\n",
    "### Benchmark Models\n",
    "1. **Temporal Convolution Network (TCN)**\n",
    "2. **LagLLAMA**\n",
    "   - **Description**: Lag-Llama is the first open-source foundation model for time series forecasting.\n",
    "   - **Resources**: \n",
    "     - [Tweet Thread](https://twitter.com/arjunashok37/status/1755261111233114165)\n",
    "     - [Model Weights](https://huggingface.co/time-series-foundation-models/Lag-Llama)\n",
    "     - [Colab Demo on Zero-Shot Forecasting](https://colab.research.google.com/drive/1XxrLW9VGPlZDw3efTvUi0hQimgJOwQG6?usp=sharing)\n",
    "     - [GitHub](https://github.com/time-series-foundation-models/lag-llama)\n",
    "     - [Paper](https://arxiv.org/abs/2310.08278)\n",
    "     "
   ]
  },
  {
   "cell_type": "code",
   "execution_count": 10,
   "metadata": {},
   "outputs": [],
   "source": [
    "LOOKBACK = 6\n",
    "HORIZON = 12\n",
    "INPUT_COL = f\"past_{LOOKBACK}_months\"\n",
    "OUTPUT_COL = f\"past_{HORIZON}_months\"\n",
    "START_MONTH = \"startMonth\"\n",
    "WEEKOFYEAR = \"weekOfYear\"\n",
    "LISTWEEKSOFYEAR = f\"list{WEEKOFYEAR}\"\n",
    "TARGET_WEEKS = \"targetWeeks\"\n",
    "TARGET = 'QUANTITY_SOLD'\n",
    "IDCOL = 'SKU'\n",
    "DATECOL = 'DATE'\n",
    "CLEANTARGET = f'clean_{TARGET}'\n",
    "MONTHCOL = \"month\"\n",
    "YEARCOL = \"year\"\n",
    "TARGETYEAR = \"listed_year\"\n",
    "TARGETYEAR_1 = \"listed_year_1\"\n",
    "STATICOL=\"CURRENT_LEVEL\"\n",
    "LISTCLEANTARGET=f'list_{CLEANTARGET}'\n",
    "DEPTHISTORYDAYS = 'depthHistorySku'\n",
    "MINDEPTHISTORYMONTHS = 18 #(6 months input , 12 output) - Arbitrary , can be reduced later if patterns are very explicit\n",
    "MINDEPTHISTORYDAYS = MINDEPTHISTORYMONTHS*31\n",
    "LISTMONTHS = \"listMonths\"\n",
    "INPUT_SEQUENCE=\"inputSeq\"\n",
    "OUTPUT_SEQUENCE=\"outputSeq\"\n",
    "NORM_STATICOL = f\"normalized{STATICOL}\"\n",
    "\n",
    "import pandas as pd \n",
    "import numpy as np "
   ]
  },
  {
   "cell_type": "markdown",
   "metadata": {},
   "source": [
    "## Sarima"
   ]
  },
  {
   "cell_type": "code",
   "execution_count": 2,
   "metadata": {},
   "outputs": [
    {
     "data": {
      "text/html": [
       "<div>\n",
       "<style scoped>\n",
       "    .dataframe tbody tr th:only-of-type {\n",
       "        vertical-align: middle;\n",
       "    }\n",
       "\n",
       "    .dataframe tbody tr th {\n",
       "        vertical-align: top;\n",
       "    }\n",
       "\n",
       "    .dataframe thead th {\n",
       "        text-align: right;\n",
       "    }\n",
       "</style>\n",
       "<table border=\"1\" class=\"dataframe\">\n",
       "  <thead>\n",
       "    <tr style=\"text-align: right;\">\n",
       "      <th></th>\n",
       "      <th>SKU</th>\n",
       "      <th>CURRENT_LEVEL</th>\n",
       "      <th>listweekOfYear</th>\n",
       "      <th>list_clean_QUANTITY_SOLD</th>\n",
       "    </tr>\n",
       "  </thead>\n",
       "  <tbody>\n",
       "    <tr>\n",
       "      <th>0</th>\n",
       "      <td>-9222467576456937548</td>\n",
       "      <td>110</td>\n",
       "      <td>[11, 12, 13, 14, 15, 16, 18, 19, 20, 21, 22, 2...</td>\n",
       "      <td>[1.0, 2.0, 3.0, 3.0, 1.0, 2.0, 5.0, 2.0, 2.0, ...</td>\n",
       "    </tr>\n",
       "    <tr>\n",
       "      <th>1</th>\n",
       "      <td>-9209598084102175757</td>\n",
       "      <td>160</td>\n",
       "      <td>[14, 15, 16, 17, 18, 19, 20, 21, 22, 23, 24, 2...</td>\n",
       "      <td>[4.0, 7.0, 8.5, 10.0, 5.0, 14.0, 38.0, 33.0, 1...</td>\n",
       "    </tr>\n",
       "    <tr>\n",
       "      <th>2</th>\n",
       "      <td>-9205287583597695299</td>\n",
       "      <td>7009</td>\n",
       "      <td>[6, 7, 8, 9, 10, 11, 12, 13, 14, 15, 16, 17, 1...</td>\n",
       "      <td>[18.0, 15.0, 15.0, 12.0, 16.0, 16.0, 16.0, 16....</td>\n",
       "    </tr>\n",
       "    <tr>\n",
       "      <th>3</th>\n",
       "      <td>-9204707410569096277</td>\n",
       "      <td>1061</td>\n",
       "      <td>[5, 6, 7, 8, 9, 10, 11, 12, 13, 14, 15, 16, 17...</td>\n",
       "      <td>[4.0, 6.0, 9.0, 12.0, 40.0, 16.0, 41.0, 9.0, 5...</td>\n",
       "    </tr>\n",
       "    <tr>\n",
       "      <th>4</th>\n",
       "      <td>-9178893055278907939</td>\n",
       "      <td>53</td>\n",
       "      <td>[43, 45, 50, 51, 52, 3, 4, 5, 6, 7, 8, 9, 10, ...</td>\n",
       "      <td>[4.0, 3.0, 6.0, 2.0, 3.0, 5.0, 1.0, 3.0, 14.0,...</td>\n",
       "    </tr>\n",
       "  </tbody>\n",
       "</table>\n",
       "</div>"
      ],
      "text/plain": [
       "                   SKU  CURRENT_LEVEL  \\\n",
       "0 -9222467576456937548            110   \n",
       "1 -9209598084102175757            160   \n",
       "2 -9205287583597695299           7009   \n",
       "3 -9204707410569096277           1061   \n",
       "4 -9178893055278907939             53   \n",
       "\n",
       "                                      listweekOfYear  \\\n",
       "0  [11, 12, 13, 14, 15, 16, 18, 19, 20, 21, 22, 2...   \n",
       "1  [14, 15, 16, 17, 18, 19, 20, 21, 22, 23, 24, 2...   \n",
       "2  [6, 7, 8, 9, 10, 11, 12, 13, 14, 15, 16, 17, 1...   \n",
       "3  [5, 6, 7, 8, 9, 10, 11, 12, 13, 14, 15, 16, 17...   \n",
       "4  [43, 45, 50, 51, 52, 3, 4, 5, 6, 7, 8, 9, 10, ...   \n",
       "\n",
       "                            list_clean_QUANTITY_SOLD  \n",
       "0  [1.0, 2.0, 3.0, 3.0, 1.0, 2.0, 5.0, 2.0, 2.0, ...  \n",
       "1  [4.0, 7.0, 8.5, 10.0, 5.0, 14.0, 38.0, 33.0, 1...  \n",
       "2  [18.0, 15.0, 15.0, 12.0, 16.0, 16.0, 16.0, 16....  \n",
       "3  [4.0, 6.0, 9.0, 12.0, 40.0, 16.0, 41.0, 9.0, 5...  \n",
       "4  [4.0, 3.0, 6.0, 2.0, 3.0, 5.0, 1.0, 3.0, 14.0,...  "
      ]
     },
     "execution_count": 2,
     "metadata": {},
     "output_type": "execute_result"
    }
   ],
   "source": [
    "dataset = pd.read_json('../datasets/TRAIN_TEST_DATASET_SARIMA.json')\n",
    "dataset=dataset[dataset[LISTCLEANTARGET].apply(len)>=52].reset_index(drop=True)\n",
    "dataset.head()"
   ]
  },
  {
   "cell_type": "code",
   "execution_count": 74,
   "metadata": {},
   "outputs": [],
   "source": [
    "dataset[LISTCLEANTARGET] = dataset[LISTCLEANTARGET].apply(lambda x : x[0:60])"
   ]
  },
  {
   "cell_type": "markdown",
   "metadata": {},
   "source": [
    "#### SARIMA : Fit"
   ]
  },
  {
   "cell_type": "code",
   "execution_count": 80,
   "metadata": {},
   "outputs": [],
   "source": [
    "import warnings\n",
    "warnings.filterwarnings(\"ignore\", category=UserWarning, module=\"statsmodels\")\n"
   ]
  },
  {
   "cell_type": "code",
   "execution_count": 86,
   "metadata": {},
   "outputs": [
    {
     "data": {
      "text/plain": [
       "'\\n# Example usage\\nobservations = np.random.randn(100)  # Replace with your actual data\\ninitial_input_size = 24  # Can be modified as needed\\n\\nmape_list, predictions = main(observations, initial_input_size)\\nprint(\"MAPE List:\", mape_list)\\nprint(\"Predictions:\", predictions)\\n\\n# Plotting the actual vs predicted values\\nplt.figure(figsize=(10, 6))\\nplt.plot(observations, label=\\'Actual\\', marker=\\'o\\')\\nplt.plot(range(initial_input_size, initial_input_size + len(predictions)), predictions, label=\\'Predicted\\', marker=\\'x\\')\\nplt.title(\\'Actual vs Predicted Values\\')\\nplt.xlabel(\\'Time\\')\\nplt.ylabel(\\'Value\\')\\nplt.legend()\\nplt.show()'"
      ]
     },
     "execution_count": 86,
     "metadata": {},
     "output_type": "execute_result"
    }
   ],
   "source": [
    "import numpy as np\n",
    "import statsmodels.api as sm\n",
    "import matplotlib.pyplot as plt\n",
    "from sklearn.metrics import mean_absolute_percentage_error\n",
    "\n",
    "def infer_seasonality_pacf(observations, max_lags=None, threshold=0.5):\n",
    "    \"\"\"\n",
    "    Infer the seasonality of a time series using the PACF plot.\n",
    "\n",
    "    Parameters:\n",
    "    - observations: list or np.array of time series observations\n",
    "    - max_lags: int, maximum number of lags to consider in the PACF plot\n",
    "    - threshold: float, significance threshold for partial autocorrelation values\n",
    "\n",
    "    Returns:\n",
    "    - seasonality: int, inferred seasonality period\n",
    "    \"\"\"\n",
    "    # Convert observations to numpy array\n",
    "    data = np.array(observations)\n",
    "\n",
    "    # Calculate the maximum number of lags if not provided\n",
    "    if max_lags is None or max_lags >= len(data) / 2:\n",
    "        max_lags = int(len(data) / 2) - 1\n",
    "\n",
    "    # Calculate PACF values\n",
    "    pacf_values = sm.tsa.pacf(data, nlags=max_lags)\n",
    "    \n",
    "    # Identify significant lags based on the threshold\n",
    "    significant_lags = [lag for lag, value in enumerate(pacf_values) if abs(value) > threshold]\n",
    "    \n",
    "    # Remove the 0th lag, which is always 1 for PACF\n",
    "    if 0 in significant_lags:\n",
    "        significant_lags.remove(0)\n",
    "    \n",
    "    # Infer the seasonality as the most significant lag\n",
    "    if significant_lags:\n",
    "        seasonality = significant_lags[0]\n",
    "    else:\n",
    "        seasonality = None  # No significant seasonality found\n",
    "    \n",
    "    return seasonality\n",
    "\n",
    "def fit_sarima_or_arima(data, seasonality):\n",
    "    \"\"\"\n",
    "    Fit a SARIMA or ARIMA model on the data depending on the validity of the seasonality.\n",
    "    \"\"\"\n",
    "    p, d, q = 1, 1, 1  # ARIMA parameters\n",
    "    P, D, Q = 1, 1, 1  # Seasonal parameters\n",
    "\n",
    "    if seasonality is not None and seasonality > 1:\n",
    "        # Fit SARIMA model\n",
    "        model = sm.tsa.statespace.SARIMAX(data, order=(p, d, q), seasonal_order=(P, D, Q, seasonality))\n",
    "    else:\n",
    "        # Fit ARIMA model (no seasonality)\n",
    "        model = sm.tsa.statespace.SARIMAX(data, order=(p, d, q), seasonal_order=(0, 0, 0, 0))\n",
    "    \n",
    "    fit = model.fit(disp=False)\n",
    "    return fit\n",
    "\n",
    "def main(observations, initial_input_size=24):\n",
    "    try : \n",
    "        mape_list = []\n",
    "        predictions = []\n",
    "\n",
    "        # Ensure the observations array is at least 2 * initial_input_size in length\n",
    "        if len(observations) < 2 * initial_input_size:\n",
    "            raise ValueError(f\"Observations array must be at least {2 * initial_input_size} in length\")\n",
    "\n",
    "        # Initial fitting on the first initial_input_size values\n",
    "        train_data = observations[:initial_input_size]\n",
    "\n",
    "        # Infer seasonality once for the initial training data\n",
    "        seasonality = infer_seasonality_pacf(train_data)\n",
    "\n",
    "        for start in range(initial_input_size, len(observations) - 4, 4):\n",
    "            actual_next_values = observations[start:start + 4]\n",
    "\n",
    "            try:\n",
    "                # Fit SARIMA or ARIMA model\n",
    "                model_fit = fit_sarima_or_arima(train_data, seasonality)\n",
    "\n",
    "                # Forecast the next 4 values\n",
    "                forecast = model_fit.get_forecast(steps=4)\n",
    "                forecast_mean = forecast.predicted_mean  # Get the predicted mean values\n",
    "\n",
    "                # Compute MAPE\n",
    "                mape = mean_absolute_percentage_error(actual_next_values, forecast_mean) * 100\n",
    "                mape_list.append(mape)\n",
    "                predictions.extend(forecast_mean)\n",
    "            except ValueError as e:\n",
    "                print(f\"Skipping due to error: {e}\")\n",
    "                continue\n",
    "\n",
    "            # Append the actual next values to the training data for the next iteration\n",
    "            train_data = np.concatenate([train_data, actual_next_values])\n",
    "\n",
    "        return mape_list, predictions\n",
    "    except Exception as e:\n",
    "        return e\n",
    "\n"
   ]
  },
  {
   "cell_type": "code",
   "execution_count": 99,
   "metadata": {},
   "outputs": [
    {
     "name": "stdout",
     "output_type": "stream",
     "text": [
      "99\n"
     ]
    },
    {
     "name": "stderr",
     "output_type": "stream",
     "text": [
      "/Users/boujidax/Library/Python/3.9/lib/python/site-packages/statsmodels/regression/linear_model.py:1491: ValueWarning: Matrix is singular. Using pinv.\n",
      "  warnings.warn(\"Matrix is singular. Using pinv.\", ValueWarning)\n"
     ]
    },
    {
     "name": "stdout",
     "output_type": "stream",
     "text": [
      "199\n",
      "299\n"
     ]
    },
    {
     "name": "stderr",
     "output_type": "stream",
     "text": [
      "/Users/boujidax/Library/Python/3.9/lib/python/site-packages/statsmodels/regression/linear_model.py:1491: ValueWarning: Matrix is singular. Using pinv.\n",
      "  warnings.warn(\"Matrix is singular. Using pinv.\", ValueWarning)\n"
     ]
    },
    {
     "name": "stdout",
     "output_type": "stream",
     "text": [
      "399\n",
      "499\n",
      "599\n",
      "699\n",
      "799\n",
      "899\n"
     ]
    },
    {
     "name": "stderr",
     "output_type": "stream",
     "text": [
      "/Users/boujidax/Library/Python/3.9/lib/python/site-packages/statsmodels/regression/linear_model.py:1491: ValueWarning: Matrix is singular. Using pinv.\n",
      "  warnings.warn(\"Matrix is singular. Using pinv.\", ValueWarning)\n"
     ]
    },
    {
     "name": "stdout",
     "output_type": "stream",
     "text": [
      "999\n",
      "1099\n",
      "1199\n"
     ]
    },
    {
     "name": "stderr",
     "output_type": "stream",
     "text": [
      "/Users/boujidax/Library/Python/3.9/lib/python/site-packages/statsmodels/regression/linear_model.py:1491: ValueWarning: Matrix is singular. Using pinv.\n",
      "  warnings.warn(\"Matrix is singular. Using pinv.\", ValueWarning)\n",
      "/Users/boujidax/Library/Python/3.9/lib/python/site-packages/statsmodels/regression/linear_model.py:1491: ValueWarning: Matrix is singular. Using pinv.\n",
      "  warnings.warn(\"Matrix is singular. Using pinv.\", ValueWarning)\n"
     ]
    },
    {
     "name": "stdout",
     "output_type": "stream",
     "text": [
      "1299\n",
      "1399\n",
      "1499\n",
      "1599\n"
     ]
    }
   ],
   "source": [
    "sarima_output = []\n",
    "\n",
    "for index, row in dataset.iterrows():\n",
    "    observations = row[LISTCLEANTARGET]\n",
    "    try:\n",
    "        mape_list, predictions = main(observations)\n",
    "        sarima_output.append([mape_list,predictions])\n",
    "    except Exception as e:\n",
    "        print(f\"Error processing row {index}: {e}\")\n",
    "        sarima_output.append([])  # Append an empty list in case of error\n",
    "\n",
    "    if (index + 1) % 100 == 0:\n",
    "        print(index)\n",
    "        checkpoint = dataset.head(index + 1).copy()\n",
    "        checkpoint['sarima_output'] = sarima_output\n",
    "        checkpoint.to_json(f\"../datasets/sarima_fitted_results.json\")\n",
    "\n",
    "# Final save for remaining rows\n",
    "checkpoint = dataset.copy()\n",
    "checkpoint['sarima_output'] = sarima_output\n",
    "checkpoint.to_json(\"../datasets/sarima_fitted_results.json\")"
   ]
  },
  {
   "cell_type": "markdown",
   "metadata": {},
   "source": [
    "#### SARIMA : Evaluate"
   ]
  },
  {
   "cell_type": "code",
   "execution_count": 11,
   "metadata": {},
   "outputs": [],
   "source": [
    "df_eval = pd.read_json(\"../datasets/sarima_fitted_results.json\")"
   ]
  },
  {
   "cell_type": "code",
   "execution_count": 7,
   "metadata": {},
   "outputs": [
    {
     "data": {
      "text/plain": [
       "[18.14, 54.63, 76.06, 137.59, 196.25, 3.094562792875e+17]"
      ]
     },
     "execution_count": 7,
     "metadata": {},
     "output_type": "execute_result"
    }
   ],
   "source": [
    "df_eval.sarima_output.apply(lambda x : np.mean(x[0])).quantile([0,.25,.5,.85,.95,1]).round(2).tolist()"
   ]
  },
  {
   "cell_type": "code",
   "execution_count": 21,
   "metadata": {},
   "outputs": [
    {
     "data": {
      "text/plain": [
       "[19.03, 54.69, 77.04, 138.62, 196.73, 2932.46]"
      ]
     },
     "execution_count": 21,
     "metadata": {},
     "output_type": "execute_result"
    }
   ],
   "source": [
    "df_eval[df_eval['list_clean_QUANTITY_SOLD'].apply(min)>0].sarima_output.apply(lambda x : np.mean(x[0])).quantile([0,.25,.5,.85,.95,1]).round(2).tolist()"
   ]
  },
  {
   "cell_type": "code",
   "execution_count": 10,
   "metadata": {},
   "outputs": [
    {
     "name": "stdout",
     "output_type": "stream",
     "text": [
      "MAPE :  48.850642447675\n"
     ]
    },
    {
     "data": {
      "image/png": "[encoded data removed]",
      "text/plain": [
       "<Figure size 1000x300 with 1 Axes>"
      ]
     },
     "metadata": {},
     "output_type": "display_data"
    }
   ],
   "source": [
    "import matplotlib.pyplot as plt\n",
    "\n",
    "sample = df_eval.sample()\n",
    "observations = sample[LISTCLEANTARGET].values[0]# get ground truth\n",
    "predictions = sample['sarima_output'].values[0][1]# get predictions \n",
    "mape = np.mean(sample['sarima_output'].values[0][0])# get predictions \n",
    "print(\"MAPE : \",mape)\n",
    "initial_input_size = 24  # Can be modified as needed\n",
    "\n",
    "\n",
    "# Plotting the actual vs predicted values\n",
    "plt.figure(figsize=(10, 3))\n",
    "plt.plot(observations, label='Actual', marker='o')\n",
    "plt.plot(range(initial_input_size, initial_input_size + len(predictions)), predictions, label='Predicted', marker='x')\n",
    "plt.title('Actual vs Predicted Values')\n",
    "plt.xlabel('Time')\n",
    "plt.ylabel('Value')\n",
    "plt.legend()\n",
    "plt.show()"
   ]
  },
  {
   "cell_type": "code",
   "execution_count": 27,
   "metadata": {},
   "outputs": [
    {
     "name": "stdout",
     "output_type": "stream",
     "text": [
      "MAPE :  122.70774452077501\n"
     ]
    },
    {
     "data": {
      "image/png": "[encoded data removed]",
      "text/plain": [
       "<Figure size 1000x300 with 1 Axes>"
      ]
     },
     "metadata": {},
     "output_type": "display_data"
    }
   ],
   "source": [
    "import matplotlib.pyplot as plt\n",
    "\n",
    "sample = df_eval.sample()\n",
    "observations = sample[LISTCLEANTARGET].values[0]# get ground truth\n",
    "predictions = sample['sarima_output'].values[0][1]# get predictions \n",
    "mape = np.mean(sample['sarima_output'].values[0][0])# get predictions \n",
    "print(\"MAPE : \",mape)\n",
    "initial_input_size = 24  # Can be modified as needed\n",
    "\n",
    "\n",
    "# Plotting the actual vs predicted values\n",
    "plt.figure(figsize=(10, 3))\n",
    "plt.plot(observations, label='Actual', marker='o')\n",
    "plt.plot(range(initial_input_size, initial_input_size + len(predictions)), predictions, label='Predicted', marker='x')\n",
    "plt.title('Actual vs Predicted Values')\n",
    "plt.xlabel('Time')\n",
    "plt.ylabel('Value')\n",
    "plt.legend()\n",
    "plt.show()"
   ]
  },
  {
   "cell_type": "markdown",
   "metadata": {},
   "source": [
    "## Vanilla gru \n",
    "- Todo : DEBUG"
   ]
  },
  {
   "cell_type": "code",
   "execution_count": null,
   "metadata": {},
   "outputs": [],
   "source": [
    "\n",
    "df_1 = pd.read_json('TRAIN_TEST_DATASET.json')\n",
    "total_samples=df_1.shape[0]\n",
    "train_set = df_1[:int(total_samples*.8)].reset_index(drop=True)\n",
    "test_set = df_1[int(total_samples*.8):].reset_index(drop=True)\n",
    "print(train_set.shape ,test_set.shape)\n",
    "\n",
    "P99=np.quantile(np.concatenate([np.array(df_1.inputSeq.values.tolist())[:,:,0].reshape(-1),np.array(df_1.outputSeq.values.tolist()).reshape(-1)]),[.99])[0]\n",
    "MAX_TR = P99\n",
    "MIN_TR = np.concatenate([np.array(train_set.inputSeq.values.tolist())[:,:,0].reshape(-1),np.array(train_set.outputSeq.values.tolist()).reshape(-1)]).min()\n",
    "print(MAX_TR , MIN_TR)\n",
    "\n",
    "import torch\n",
    "import torch.nn as nn\n",
    "import torch.optim as optim\n",
    "from torch.utils.data import Dataset, DataLoader\n",
    "from dataset import TimeSeriesDataset\n",
    "\n",
    "\n",
    "def min_max_normalize(data, min_val, max_val):\n",
    "    data = torch.clamp(data, min_val, max_val)\n",
    "    return (data - min_val) / (max_val - min_val)\n",
    "\n",
    "def min_max_denormalize(data, min_val, max_val):\n",
    "    return data * (max_val - min_val) + min_val\n",
    "\n",
    "# Assuming train_set and test_set are already defined as pandas DataFrames or similar structures\n",
    "train_inputs_seq = torch.Tensor(train_set[INPUT_SEQUENCE].tolist()).float()\n",
    "train_inputs_scalar = torch.Tensor(train_set[NORM_STATICOL].tolist()).float().reshape(-1, 1)\n",
    "train_targets = torch.Tensor(train_set[OUTPUT_SEQUENCE].tolist()).float()\n",
    "train_targets_weeks = torch.Tensor(train_set[TARGET_WEEKS].tolist()).float()\n",
    "test_inputs_seq = torch.Tensor(test_set[INPUT_SEQUENCE].tolist()).float()\n",
    "test_inputs_scalar = torch.Tensor(test_set[NORM_STATICOL].tolist()).float().reshape(-1, 1)\n",
    "test_targets = torch.Tensor(test_set[OUTPUT_SEQUENCE].tolist()).float()\n",
    "test_targets_weeks = torch.Tensor(test_set[TARGET_WEEKS].tolist()).float()\n",
    "\n",
    "# Normalizing the first feature of the inputs and the outputs\n",
    "train_inputs_seq[:, :, 0] = min_max_normalize(train_inputs_seq[:, :, 0], MIN_TR, MAX_TR)\n",
    "test_inputs_seq[:, :, 0] = min_max_normalize(test_inputs_seq[:, :, 0], MIN_TR, MAX_TR)\n",
    "\n",
    "train_targets = min_max_normalize(train_targets, MIN_TR, MAX_TR)\n",
    "test_targets = min_max_normalize(test_targets, MIN_TR, MAX_TR)\n",
    "\n",
    "# Create datasets\n",
    "train_dataset = TimeSeriesDataset(train_inputs_seq, train_inputs_scalar, train_targets, train_targets_weeks)\n",
    "test_dataset = TimeSeriesDataset(test_inputs_seq, test_inputs_scalar, test_targets, test_targets_weeks)\n",
    "\n",
    "SAMPLE_INDICES_TO_TRACK = [ 5667, 12814, 21974,  7926, 31114, 29868, 20937,  4211, 20616,\n",
    "        3318]\n",
    "SAMPLE_INDICES_TO_TRACK\n"
   ]
  },
  {
   "cell_type": "code",
   "execution_count": 10,
   "metadata": {},
   "outputs": [],
   "source": [
    "import torch\n",
    "import torch.nn as nn\n",
    "import torch.optim as optim\n",
    "import time\n",
    "from torch.utils.data import DataLoader\n",
    "import numpy as np\n",
    "import matplotlib.pyplot as plt\n",
    "from tqdm import tqdm\n",
    "\n",
    "# Assuming TimeSeriesDataset is defined elsewhere\n",
    "# Ensure all relevant libraries and the dataset are properly imported\n",
    "device = torch.device(\"cpu\")\n",
    "class VanillaGRU(nn.Module):\n",
    "    def __init__(self, seq_input_dim, scalar_input_dim, hidden_dim, output_dim, num_layers=1, dropout=0.5):\n",
    "        super(VanillaGRU, self).__init__()\n",
    "        self.gru = nn.GRU(seq_input_dim + scalar_input_dim, hidden_dim, num_layers, batch_first=True, dropout=dropout)\n",
    "        self.fc = nn.Linear(hidden_dim, output_dim)\n",
    "        self.dropout = nn.Dropout(dropout)\n",
    "    \n",
    "    def forward(self, seq_inputs, scalar_inputs, trg=None, target_weeks=None, trainBool=True):\n",
    "        batch_size, seq_len, _ = seq_inputs.shape\n",
    "        combined_inputs = torch.cat((seq_inputs, scalar_inputs.unsqueeze(1).repeat(1, seq_len, 1)), dim=2)\n",
    "        \n",
    "        outputs, hidden = self.gru(combined_inputs)\n",
    "        \n",
    "        outputs = self.fc(self.dropout(outputs))\n",
    "        \n",
    "        if trg is not None:\n",
    "            steps_per_chunk = 4\n",
    "            for t in range(0, trg.shape[1], steps_per_chunk):\n",
    "                if t + steps_per_chunk < trg.shape[1]:\n",
    "                    actual_idx_end = t + steps_per_chunk\n",
    "                    actual_quantity = trg[:, t:actual_idx_end].unsqueeze(2)\n",
    "                    actual_weeks = target_weeks[:, t:actual_idx_end, :]\n",
    "                    actual_sequence = torch.cat((actual_quantity, actual_weeks), dim=2)\n",
    "                    seq_inputs = torch.cat((seq_inputs, actual_sequence), dim=1)\n",
    "                    combined_inputs = torch.cat((seq_inputs, scalar_inputs.unsqueeze(1).repeat(1, seq_inputs.shape[1], 1)), dim=2)\n",
    "                    outputs, hidden = self.gru(combined_inputs, hidden)\n",
    "                    outputs = self.fc(self.dropout(outputs))\n",
    "        \n",
    "        return outputs[:, -trg.shape[1]:, :].squeeze(2)\n",
    "\n",
    "def train(model, iterator, optimizer, criterion, clip):\n",
    "    model.train()\n",
    "    epoch_loss = 0\n",
    "\n",
    "    for batch in tqdm(iterator, desc=\"Training Batches\"):\n",
    "        seq_inputs, scalar_inputs, trg, trg_weeks = batch\n",
    "        seq_inputs, scalar_inputs, trg, trg_weeks = seq_inputs.to(device), scalar_inputs.to(device), trg.to(device), trg_weeks.to(device)\n",
    "        \n",
    "        optimizer.zero_grad()\n",
    "        output = model(seq_inputs, scalar_inputs, trg, trg_weeks, trainBool=True)\n",
    "        \n",
    "        loss = criterion(output, trg)\n",
    "        loss.backward()\n",
    "        \n",
    "        torch.nn.utils.clip_grad_norm_(model.parameters(), clip)\n",
    "        optimizer.step()\n",
    "        \n",
    "        epoch_loss += loss.item()\n",
    "        \n",
    "    return epoch_loss / len(iterator)\n",
    "\n",
    "def evaluate(model, iterator, criterion):\n",
    "    model.eval()\n",
    "    epoch_loss = 0\n",
    "    mape_list = []\n",
    "\n",
    "    with torch.no_grad():\n",
    "        for batch in tqdm(iterator, desc=\"Validation Batches\"):\n",
    "            seq_inputs, scalar_inputs, trg, trg_weeks = batch\n",
    "            seq_inputs, scalar_inputs, trg, trg_weeks = seq_inputs.to(device), scalar_inputs.to(device), trg.to(device), trg_weeks.to(device)\n",
    "            \n",
    "            output = model(seq_inputs, scalar_inputs, trg, trg_weeks, trainBool=False)\n",
    "            \n",
    "            loss = criterion(output, trg)\n",
    "            epoch_loss += loss.item()\n",
    "            \n",
    "            actual = min_max_denormalize(trg.cpu().numpy(), MIN_TR, MAX_TR)\n",
    "            output = min_max_denormalize(output.cpu().numpy(), MIN_TR, MAX_TR)\n",
    "            \n",
    "            mapes_batch = compute_mape(actual, output)\n",
    "            mape_list += mapes_batch\n",
    "    \n",
    "    mape_quantiles = np.quantile(mape_list, [0, .25, .5, .85, .95, 1]).round(2)\n",
    "    print(f'\\t quantiles [0,.25,.5,.85,.95,1]  MAPE : {mape_quantiles}%')\n",
    "    \n",
    "    return epoch_loss / len(iterator)\n",
    "\n",
    "def epoch_time(start_time, end_time):\n",
    "    elapsed_time = end_time - start_time\n",
    "    elapsed_mins = int(elapsed_time / 60)\n",
    "    elapsed_secs = int(elapsed_time - (elapsed_mins * 60))\n",
    "    return elapsed_mins, elapsed_secs\n",
    "\n",
    "def compute_mape(actual, predicted):\n",
    "    return np.mean(np.abs((actual - predicted) / (actual + 1)), axis=1).tolist()\n",
    "\n",
    "def predict_plot(model, index_samples):\n",
    "    fig, axes = plt.subplots(1, len(index_samples), figsize=(30, 3))\n",
    "    axes = axes.flatten()\n",
    "\n",
    "    for idx, ax in zip(index_samples, axes):\n",
    "        seq_inputs = test_inputs_seq[idx, :, :].unsqueeze(0).to(device)\n",
    "        scalar_inputs = test_inputs_scalar[idx, :].unsqueeze(0).to(device)\n",
    "        trg = test_targets[idx, :].unsqueeze(0).to(device)\n",
    "        trg_weeks = test_targets_weeks[idx, :].unsqueeze(0).to(device)\n",
    "        \n",
    "        full_actual = np.concatenate((seq_inputs[0, :, 0].cpu().detach().numpy(), trg[0, :].cpu().detach().numpy()))\n",
    "        full_actual = min_max_denormalize(full_actual, MIN_TR, MAX_TR)\n",
    "        \n",
    "        pred = model(seq_inputs, scalar_inputs, trg_weeks, horizon=52-4, trg=trg, attention_enabled=False)\n",
    "        pred = pred.reshape(-1)\n",
    "        \n",
    "        history = seq_inputs[0, :, 0].cpu().detach().numpy().reshape(-1)\n",
    "        actual = trg[0, :].cpu().detach().numpy().reshape(-1)\n",
    "        actual = min_max_denormalize(actual, MIN_TR, MAX_TR)\n",
    "        \n",
    "        ax.plot(full_actual, label='Actual')\n",
    "        ax.plot(range(len(history), len(history) + len(pred)), pred, label='Predicted', color='red')\n",
    "        ax.set_title(f'Sample {idx}')\n",
    "        ax.grid()\n",
    "    \n",
    "    plt.tight_layout()\n",
    "    plt.legend()\n",
    "    plt.show()\n",
    "\n",
    "def end_to_end(seq_input_dim, scalar_input_dim, hidden_dim, output_dim, num_layers, dropout, batch_size, no_epochs, clip, tfr):\n",
    "    model = VanillaGRU(seq_input_dim, scalar_input_dim, hidden_dim, output_dim, num_layers, dropout).to(device)\n",
    "    \n",
    "    train_loader = DataLoader(train_dataset, batch_size=batch_size, shuffle=True, num_workers=4, pin_memory=True)\n",
    "    test_loader = DataLoader(test_dataset, batch_size=batch_size, shuffle=False, num_workers=4, pin_memory=True)\n",
    "    \n",
    "    optimizer = optim.Adam(model.parameters(), lr=0.001)\n",
    "    criterion = nn.MSELoss()\n",
    "    best_valid_loss = float('inf')\n",
    "    \n",
    "    for epoch in range(no_epochs):\n",
    "        start_time = time.time()\n",
    "        \n",
    "        train_loss = train(model, train_loader, optimizer, criterion, clip)\n",
    "        valid_loss = evaluate(model, test_loader, criterion)\n",
    "        \n",
    "        end_time = time.time()\n",
    "        \n",
    "        epoch_mins, epoch_secs = epoch_time(start_time, end_time)\n",
    "        \n",
    "        if valid_loss < best_valid_loss:\n",
    "            best_valid_loss = valid_loss\n",
    "            torch.save(model.state_dict(), f'vanilla_gru_model_dim_{hidden_dim}_tfr_{tfr}_layers_{num_layers}.pt')\n",
    "        \n",
    "        print(f'Epoch: {epoch+1:02} | Time: {epoch_mins}m {epoch_secs}s')\n",
    "        print(f'\\tTrain Loss: {train_loss:.3f} | Train PPL: {math.exp(train_loss):7.3f}')\n",
    "        print(f'\\t Val. Loss: {valid_loss:.3f} |  Val. PPL: {math.exp(valid_loss):7.3f}')   \n",
    "        predict_plot(model, SAMPLE_INDICES_TO_TRACK)"
   ]
  },
  {
   "cell_type": "code",
   "execution_count": 11,
   "metadata": {},
   "outputs": [
    {
     "name": "stderr",
     "output_type": "stream",
     "text": [
      "Training Batches:   0%|          | 0/4745 [00:01<?, ?it/s]\n"
     ]
    },
    {
     "ename": "RuntimeError",
     "evalue": "input.size(-1) must be equal to input_size. Expected 5, got 4",
     "output_type": "error",
     "traceback": [
      "\u001b[0;31m---------------------------------------------------------------------------\u001b[0m",
      "\u001b[0;31mRuntimeError\u001b[0m                              Traceback (most recent call last)",
      "Cell \u001b[0;32mIn[11], line 11\u001b[0m\n\u001b[1;32m      8\u001b[0m tfr \u001b[38;5;241m=\u001b[39m \u001b[38;5;241m0.5\u001b[39m\n\u001b[1;32m      9\u001b[0m SAMPLE_INDICES_TO_TRACK \u001b[38;5;241m=\u001b[39m [\u001b[38;5;241m0\u001b[39m, \u001b[38;5;241m10\u001b[39m, \u001b[38;5;241m20\u001b[39m, \u001b[38;5;241m30\u001b[39m]  \u001b[38;5;66;03m# Example indices\u001b[39;00m\n\u001b[0;32m---> 11\u001b[0m \u001b[43mend_to_end\u001b[49m\u001b[43m(\u001b[49m\u001b[38;5;241;43m4\u001b[39;49m\u001b[43m,\u001b[49m\u001b[43m \u001b[49m\u001b[38;5;241;43m1\u001b[39;49m\u001b[43m,\u001b[49m\u001b[43m \u001b[49m\u001b[43mhidden_dim\u001b[49m\u001b[43m,\u001b[49m\u001b[43m \u001b[49m\u001b[43moutput_dim\u001b[49m\u001b[43m,\u001b[49m\u001b[43m \u001b[49m\u001b[43mnum_layers\u001b[49m\u001b[43m,\u001b[49m\u001b[43m \u001b[49m\u001b[43mdropout\u001b[49m\u001b[43m,\u001b[49m\u001b[43m \u001b[49m\u001b[43mbatch_size\u001b[49m\u001b[43m,\u001b[49m\u001b[43m \u001b[49m\u001b[43mno_epochs\u001b[49m\u001b[43m,\u001b[49m\u001b[43m \u001b[49m\u001b[43mclip\u001b[49m\u001b[43m,\u001b[49m\u001b[43m \u001b[49m\u001b[43mtfr\u001b[49m\u001b[43m)\u001b[49m\n",
      "Cell \u001b[0;32mIn[10], line 141\u001b[0m, in \u001b[0;36mend_to_end\u001b[0;34m(seq_input_dim, scalar_input_dim, hidden_dim, output_dim, num_layers, dropout, batch_size, no_epochs, clip, tfr)\u001b[0m\n\u001b[1;32m    138\u001b[0m \u001b[38;5;28;01mfor\u001b[39;00m epoch \u001b[38;5;129;01min\u001b[39;00m \u001b[38;5;28mrange\u001b[39m(no_epochs):\n\u001b[1;32m    139\u001b[0m     start_time \u001b[38;5;241m=\u001b[39m time\u001b[38;5;241m.\u001b[39mtime()\n\u001b[0;32m--> 141\u001b[0m     train_loss \u001b[38;5;241m=\u001b[39m \u001b[43mtrain\u001b[49m\u001b[43m(\u001b[49m\u001b[43mmodel\u001b[49m\u001b[43m,\u001b[49m\u001b[43m \u001b[49m\u001b[43mtrain_loader\u001b[49m\u001b[43m,\u001b[49m\u001b[43m \u001b[49m\u001b[43moptimizer\u001b[49m\u001b[43m,\u001b[49m\u001b[43m \u001b[49m\u001b[43mcriterion\u001b[49m\u001b[43m,\u001b[49m\u001b[43m \u001b[49m\u001b[43mclip\u001b[49m\u001b[43m)\u001b[49m\n\u001b[1;32m    142\u001b[0m     valid_loss \u001b[38;5;241m=\u001b[39m evaluate(model, test_loader, criterion)\n\u001b[1;32m    144\u001b[0m     end_time \u001b[38;5;241m=\u001b[39m time\u001b[38;5;241m.\u001b[39mtime()\n",
      "Cell \u001b[0;32mIn[10], line 52\u001b[0m, in \u001b[0;36mtrain\u001b[0;34m(model, iterator, optimizer, criterion, clip)\u001b[0m\n\u001b[1;32m     49\u001b[0m seq_inputs, scalar_inputs, trg, trg_weeks \u001b[38;5;241m=\u001b[39m seq_inputs\u001b[38;5;241m.\u001b[39mto(device), scalar_inputs\u001b[38;5;241m.\u001b[39mto(device), trg\u001b[38;5;241m.\u001b[39mto(device), trg_weeks\u001b[38;5;241m.\u001b[39mto(device)\n\u001b[1;32m     51\u001b[0m optimizer\u001b[38;5;241m.\u001b[39mzero_grad()\n\u001b[0;32m---> 52\u001b[0m output \u001b[38;5;241m=\u001b[39m \u001b[43mmodel\u001b[49m\u001b[43m(\u001b[49m\u001b[43mseq_inputs\u001b[49m\u001b[43m,\u001b[49m\u001b[43m \u001b[49m\u001b[43mscalar_inputs\u001b[49m\u001b[43m,\u001b[49m\u001b[43m \u001b[49m\u001b[43mtrg\u001b[49m\u001b[43m,\u001b[49m\u001b[43m \u001b[49m\u001b[43mtrg_weeks\u001b[49m\u001b[43m,\u001b[49m\u001b[43m \u001b[49m\u001b[43mtrainBool\u001b[49m\u001b[38;5;241;43m=\u001b[39;49m\u001b[38;5;28;43;01mTrue\u001b[39;49;00m\u001b[43m)\u001b[49m\n\u001b[1;32m     54\u001b[0m loss \u001b[38;5;241m=\u001b[39m criterion(output, trg)\n\u001b[1;32m     55\u001b[0m loss\u001b[38;5;241m.\u001b[39mbackward()\n",
      "File \u001b[0;32m~/Library/Python/3.9/lib/python/site-packages/torch/nn/modules/module.py:1518\u001b[0m, in \u001b[0;36mModule._wrapped_call_impl\u001b[0;34m(self, *args, **kwargs)\u001b[0m\n\u001b[1;32m   1516\u001b[0m     \u001b[38;5;28;01mreturn\u001b[39;00m \u001b[38;5;28mself\u001b[39m\u001b[38;5;241m.\u001b[39m_compiled_call_impl(\u001b[38;5;241m*\u001b[39margs, \u001b[38;5;241m*\u001b[39m\u001b[38;5;241m*\u001b[39mkwargs)  \u001b[38;5;66;03m# type: ignore[misc]\u001b[39;00m\n\u001b[1;32m   1517\u001b[0m \u001b[38;5;28;01melse\u001b[39;00m:\n\u001b[0;32m-> 1518\u001b[0m     \u001b[38;5;28;01mreturn\u001b[39;00m \u001b[38;5;28;43mself\u001b[39;49m\u001b[38;5;241;43m.\u001b[39;49m\u001b[43m_call_impl\u001b[49m\u001b[43m(\u001b[49m\u001b[38;5;241;43m*\u001b[39;49m\u001b[43margs\u001b[49m\u001b[43m,\u001b[49m\u001b[43m \u001b[49m\u001b[38;5;241;43m*\u001b[39;49m\u001b[38;5;241;43m*\u001b[39;49m\u001b[43mkwargs\u001b[49m\u001b[43m)\u001b[49m\n",
      "File \u001b[0;32m~/Library/Python/3.9/lib/python/site-packages/torch/nn/modules/module.py:1527\u001b[0m, in \u001b[0;36mModule._call_impl\u001b[0;34m(self, *args, **kwargs)\u001b[0m\n\u001b[1;32m   1522\u001b[0m \u001b[38;5;66;03m# If we don't have any hooks, we want to skip the rest of the logic in\u001b[39;00m\n\u001b[1;32m   1523\u001b[0m \u001b[38;5;66;03m# this function, and just call forward.\u001b[39;00m\n\u001b[1;32m   1524\u001b[0m \u001b[38;5;28;01mif\u001b[39;00m \u001b[38;5;129;01mnot\u001b[39;00m (\u001b[38;5;28mself\u001b[39m\u001b[38;5;241m.\u001b[39m_backward_hooks \u001b[38;5;129;01mor\u001b[39;00m \u001b[38;5;28mself\u001b[39m\u001b[38;5;241m.\u001b[39m_backward_pre_hooks \u001b[38;5;129;01mor\u001b[39;00m \u001b[38;5;28mself\u001b[39m\u001b[38;5;241m.\u001b[39m_forward_hooks \u001b[38;5;129;01mor\u001b[39;00m \u001b[38;5;28mself\u001b[39m\u001b[38;5;241m.\u001b[39m_forward_pre_hooks\n\u001b[1;32m   1525\u001b[0m         \u001b[38;5;129;01mor\u001b[39;00m _global_backward_pre_hooks \u001b[38;5;129;01mor\u001b[39;00m _global_backward_hooks\n\u001b[1;32m   1526\u001b[0m         \u001b[38;5;129;01mor\u001b[39;00m _global_forward_hooks \u001b[38;5;129;01mor\u001b[39;00m _global_forward_pre_hooks):\n\u001b[0;32m-> 1527\u001b[0m     \u001b[38;5;28;01mreturn\u001b[39;00m \u001b[43mforward_call\u001b[49m\u001b[43m(\u001b[49m\u001b[38;5;241;43m*\u001b[39;49m\u001b[43margs\u001b[49m\u001b[43m,\u001b[49m\u001b[43m \u001b[49m\u001b[38;5;241;43m*\u001b[39;49m\u001b[38;5;241;43m*\u001b[39;49m\u001b[43mkwargs\u001b[49m\u001b[43m)\u001b[49m\n\u001b[1;32m   1529\u001b[0m \u001b[38;5;28;01mtry\u001b[39;00m:\n\u001b[1;32m   1530\u001b[0m     result \u001b[38;5;241m=\u001b[39m \u001b[38;5;28;01mNone\u001b[39;00m\n",
      "Cell \u001b[0;32mIn[10], line 24\u001b[0m, in \u001b[0;36mVanillaGRU.forward\u001b[0;34m(self, seq_inputs, scalar_inputs, trg, target_weeks, trainBool)\u001b[0m\n\u001b[1;32m     21\u001b[0m batch_size, seq_len, _ \u001b[38;5;241m=\u001b[39m seq_inputs\u001b[38;5;241m.\u001b[39mshape\n\u001b[1;32m     22\u001b[0m combined_inputs \u001b[38;5;241m=\u001b[39m torch\u001b[38;5;241m.\u001b[39mcat((seq_inputs, scalar_inputs\u001b[38;5;241m.\u001b[39munsqueeze(\u001b[38;5;241m1\u001b[39m)\u001b[38;5;241m.\u001b[39mrepeat(\u001b[38;5;241m1\u001b[39m, seq_len, \u001b[38;5;241m1\u001b[39m)), dim\u001b[38;5;241m=\u001b[39m\u001b[38;5;241m2\u001b[39m)\n\u001b[0;32m---> 24\u001b[0m outputs, hidden \u001b[38;5;241m=\u001b[39m \u001b[38;5;28;43mself\u001b[39;49m\u001b[38;5;241;43m.\u001b[39;49m\u001b[43mgru\u001b[49m\u001b[43m(\u001b[49m\u001b[43mcombined_inputs\u001b[49m\u001b[43m)\u001b[49m\n\u001b[1;32m     26\u001b[0m outputs \u001b[38;5;241m=\u001b[39m \u001b[38;5;28mself\u001b[39m\u001b[38;5;241m.\u001b[39mfc(\u001b[38;5;28mself\u001b[39m\u001b[38;5;241m.\u001b[39mdropout(outputs))\n\u001b[1;32m     28\u001b[0m \u001b[38;5;28;01mif\u001b[39;00m trg \u001b[38;5;129;01mis\u001b[39;00m \u001b[38;5;129;01mnot\u001b[39;00m \u001b[38;5;28;01mNone\u001b[39;00m:\n",
      "File \u001b[0;32m~/Library/Python/3.9/lib/python/site-packages/torch/nn/modules/module.py:1518\u001b[0m, in \u001b[0;36mModule._wrapped_call_impl\u001b[0;34m(self, *args, **kwargs)\u001b[0m\n\u001b[1;32m   1516\u001b[0m     \u001b[38;5;28;01mreturn\u001b[39;00m \u001b[38;5;28mself\u001b[39m\u001b[38;5;241m.\u001b[39m_compiled_call_impl(\u001b[38;5;241m*\u001b[39margs, \u001b[38;5;241m*\u001b[39m\u001b[38;5;241m*\u001b[39mkwargs)  \u001b[38;5;66;03m# type: ignore[misc]\u001b[39;00m\n\u001b[1;32m   1517\u001b[0m \u001b[38;5;28;01melse\u001b[39;00m:\n\u001b[0;32m-> 1518\u001b[0m     \u001b[38;5;28;01mreturn\u001b[39;00m \u001b[38;5;28;43mself\u001b[39;49m\u001b[38;5;241;43m.\u001b[39;49m\u001b[43m_call_impl\u001b[49m\u001b[43m(\u001b[49m\u001b[38;5;241;43m*\u001b[39;49m\u001b[43margs\u001b[49m\u001b[43m,\u001b[49m\u001b[43m \u001b[49m\u001b[38;5;241;43m*\u001b[39;49m\u001b[38;5;241;43m*\u001b[39;49m\u001b[43mkwargs\u001b[49m\u001b[43m)\u001b[49m\n",
      "File \u001b[0;32m~/Library/Python/3.9/lib/python/site-packages/torch/nn/modules/module.py:1527\u001b[0m, in \u001b[0;36mModule._call_impl\u001b[0;34m(self, *args, **kwargs)\u001b[0m\n\u001b[1;32m   1522\u001b[0m \u001b[38;5;66;03m# If we don't have any hooks, we want to skip the rest of the logic in\u001b[39;00m\n\u001b[1;32m   1523\u001b[0m \u001b[38;5;66;03m# this function, and just call forward.\u001b[39;00m\n\u001b[1;32m   1524\u001b[0m \u001b[38;5;28;01mif\u001b[39;00m \u001b[38;5;129;01mnot\u001b[39;00m (\u001b[38;5;28mself\u001b[39m\u001b[38;5;241m.\u001b[39m_backward_hooks \u001b[38;5;129;01mor\u001b[39;00m \u001b[38;5;28mself\u001b[39m\u001b[38;5;241m.\u001b[39m_backward_pre_hooks \u001b[38;5;129;01mor\u001b[39;00m \u001b[38;5;28mself\u001b[39m\u001b[38;5;241m.\u001b[39m_forward_hooks \u001b[38;5;129;01mor\u001b[39;00m \u001b[38;5;28mself\u001b[39m\u001b[38;5;241m.\u001b[39m_forward_pre_hooks\n\u001b[1;32m   1525\u001b[0m         \u001b[38;5;129;01mor\u001b[39;00m _global_backward_pre_hooks \u001b[38;5;129;01mor\u001b[39;00m _global_backward_hooks\n\u001b[1;32m   1526\u001b[0m         \u001b[38;5;129;01mor\u001b[39;00m _global_forward_hooks \u001b[38;5;129;01mor\u001b[39;00m _global_forward_pre_hooks):\n\u001b[0;32m-> 1527\u001b[0m     \u001b[38;5;28;01mreturn\u001b[39;00m \u001b[43mforward_call\u001b[49m\u001b[43m(\u001b[49m\u001b[38;5;241;43m*\u001b[39;49m\u001b[43margs\u001b[49m\u001b[43m,\u001b[49m\u001b[43m \u001b[49m\u001b[38;5;241;43m*\u001b[39;49m\u001b[38;5;241;43m*\u001b[39;49m\u001b[43mkwargs\u001b[49m\u001b[43m)\u001b[49m\n\u001b[1;32m   1529\u001b[0m \u001b[38;5;28;01mtry\u001b[39;00m:\n\u001b[1;32m   1530\u001b[0m     result \u001b[38;5;241m=\u001b[39m \u001b[38;5;28;01mNone\u001b[39;00m\n",
      "File \u001b[0;32m~/Library/Python/3.9/lib/python/site-packages/torch/nn/modules/rnn.py:1100\u001b[0m, in \u001b[0;36mGRU.forward\u001b[0;34m(self, input, hx)\u001b[0m\n\u001b[1;32m   1095\u001b[0m     \u001b[38;5;28;01melse\u001b[39;00m:\n\u001b[1;32m   1096\u001b[0m         \u001b[38;5;66;03m# Each batch of the hidden state should match the input sequence that\u001b[39;00m\n\u001b[1;32m   1097\u001b[0m         \u001b[38;5;66;03m# the user believes he/she is passing in.\u001b[39;00m\n\u001b[1;32m   1098\u001b[0m         hx \u001b[38;5;241m=\u001b[39m \u001b[38;5;28mself\u001b[39m\u001b[38;5;241m.\u001b[39mpermute_hidden(hx, sorted_indices)\n\u001b[0;32m-> 1100\u001b[0m \u001b[38;5;28;43mself\u001b[39;49m\u001b[38;5;241;43m.\u001b[39;49m\u001b[43mcheck_forward_args\u001b[49m\u001b[43m(\u001b[49m\u001b[38;5;28;43minput\u001b[39;49m\u001b[43m,\u001b[49m\u001b[43m \u001b[49m\u001b[43mhx\u001b[49m\u001b[43m,\u001b[49m\u001b[43m \u001b[49m\u001b[43mbatch_sizes\u001b[49m\u001b[43m)\u001b[49m\n\u001b[1;32m   1101\u001b[0m \u001b[38;5;28;01mif\u001b[39;00m batch_sizes \u001b[38;5;129;01mis\u001b[39;00m \u001b[38;5;28;01mNone\u001b[39;00m:\n\u001b[1;32m   1102\u001b[0m     result \u001b[38;5;241m=\u001b[39m _VF\u001b[38;5;241m.\u001b[39mgru(\u001b[38;5;28minput\u001b[39m, hx, \u001b[38;5;28mself\u001b[39m\u001b[38;5;241m.\u001b[39m_flat_weights, \u001b[38;5;28mself\u001b[39m\u001b[38;5;241m.\u001b[39mbias, \u001b[38;5;28mself\u001b[39m\u001b[38;5;241m.\u001b[39mnum_layers,\n\u001b[1;32m   1103\u001b[0m                      \u001b[38;5;28mself\u001b[39m\u001b[38;5;241m.\u001b[39mdropout, \u001b[38;5;28mself\u001b[39m\u001b[38;5;241m.\u001b[39mtraining, \u001b[38;5;28mself\u001b[39m\u001b[38;5;241m.\u001b[39mbidirectional, \u001b[38;5;28mself\u001b[39m\u001b[38;5;241m.\u001b[39mbatch_first)\n",
      "File \u001b[0;32m~/Library/Python/3.9/lib/python/site-packages/torch/nn/modules/rnn.py:270\u001b[0m, in \u001b[0;36mRNNBase.check_forward_args\u001b[0;34m(self, input, hidden, batch_sizes)\u001b[0m\n\u001b[1;32m    269\u001b[0m \u001b[38;5;28;01mdef\u001b[39;00m \u001b[38;5;21mcheck_forward_args\u001b[39m(\u001b[38;5;28mself\u001b[39m, \u001b[38;5;28minput\u001b[39m: Tensor, hidden: Tensor, batch_sizes: Optional[Tensor]):\n\u001b[0;32m--> 270\u001b[0m     \u001b[38;5;28;43mself\u001b[39;49m\u001b[38;5;241;43m.\u001b[39;49m\u001b[43mcheck_input\u001b[49m\u001b[43m(\u001b[49m\u001b[38;5;28;43minput\u001b[39;49m\u001b[43m,\u001b[49m\u001b[43m \u001b[49m\u001b[43mbatch_sizes\u001b[49m\u001b[43m)\u001b[49m\n\u001b[1;32m    271\u001b[0m     expected_hidden_size \u001b[38;5;241m=\u001b[39m \u001b[38;5;28mself\u001b[39m\u001b[38;5;241m.\u001b[39mget_expected_hidden_size(\u001b[38;5;28minput\u001b[39m, batch_sizes)\n\u001b[1;32m    273\u001b[0m     \u001b[38;5;28mself\u001b[39m\u001b[38;5;241m.\u001b[39mcheck_hidden_size(hidden, expected_hidden_size)\n",
      "File \u001b[0;32m~/Library/Python/3.9/lib/python/site-packages/torch/nn/modules/rnn.py:236\u001b[0m, in \u001b[0;36mRNNBase.check_input\u001b[0;34m(self, input, batch_sizes)\u001b[0m\n\u001b[1;32m    233\u001b[0m     \u001b[38;5;28;01mraise\u001b[39;00m \u001b[38;5;167;01mRuntimeError\u001b[39;00m(\n\u001b[1;32m    234\u001b[0m         \u001b[38;5;124mf\u001b[39m\u001b[38;5;124m'\u001b[39m\u001b[38;5;124minput must have \u001b[39m\u001b[38;5;132;01m{\u001b[39;00mexpected_input_dim\u001b[38;5;132;01m}\u001b[39;00m\u001b[38;5;124m dimensions, got \u001b[39m\u001b[38;5;132;01m{\u001b[39;00m\u001b[38;5;28minput\u001b[39m\u001b[38;5;241m.\u001b[39mdim()\u001b[38;5;132;01m}\u001b[39;00m\u001b[38;5;124m'\u001b[39m)\n\u001b[1;32m    235\u001b[0m \u001b[38;5;28;01mif\u001b[39;00m \u001b[38;5;28mself\u001b[39m\u001b[38;5;241m.\u001b[39minput_size \u001b[38;5;241m!=\u001b[39m \u001b[38;5;28minput\u001b[39m\u001b[38;5;241m.\u001b[39msize(\u001b[38;5;241m-\u001b[39m\u001b[38;5;241m1\u001b[39m):\n\u001b[0;32m--> 236\u001b[0m     \u001b[38;5;28;01mraise\u001b[39;00m \u001b[38;5;167;01mRuntimeError\u001b[39;00m(\n\u001b[1;32m    237\u001b[0m         \u001b[38;5;124mf\u001b[39m\u001b[38;5;124m'\u001b[39m\u001b[38;5;124minput.size(-1) must be equal to input_size. Expected \u001b[39m\u001b[38;5;132;01m{\u001b[39;00m\u001b[38;5;28mself\u001b[39m\u001b[38;5;241m.\u001b[39minput_size\u001b[38;5;132;01m}\u001b[39;00m\u001b[38;5;124m, got \u001b[39m\u001b[38;5;132;01m{\u001b[39;00m\u001b[38;5;28minput\u001b[39m\u001b[38;5;241m.\u001b[39msize(\u001b[38;5;241m-\u001b[39m\u001b[38;5;241m1\u001b[39m)\u001b[38;5;132;01m}\u001b[39;00m\u001b[38;5;124m'\u001b[39m)\n",
      "\u001b[0;31mRuntimeError\u001b[0m: input.size(-1) must be equal to input_size. Expected 5, got 4"
     ]
    }
   ],
   "source": [
    "hidden_dim = 128\n",
    "output_dim = 1  # For example, (quantity)\n",
    "num_layers = 2\n",
    "dropout = 0.5\n",
    "batch_size = 32\n",
    "no_epochs = 20\n",
    "clip = 1\n",
    "tfr = 0.5\n",
    "SAMPLE_INDICES_TO_TRACK = [0, 10, 20, 30]  # Example indices\n",
    "\n",
    "end_to_end(4, 1, hidden_dim, output_dim, num_layers, dropout, batch_size, no_epochs, clip, tfr)"
   ]
  },
  {
   "cell_type": "markdown",
   "metadata": {},
   "source": [
    "## TC1D"
   ]
  },
  {
   "cell_type": "markdown",
   "metadata": {},
   "source": [
    "## LagLLAMA"
   ]
  }
 ],
 "metadata": {
  "kernelspec": {
   "display_name": "Python 3",
   "language": "python",
   "name": "python3"
  },
  "language_info": {
   "codemirror_mode": {
    "name": "ipython",
    "version": 3
   },
   "file_extension": ".py",
   "mimetype": "text/x-python",
   "name": "python",
   "nbconvert_exporter": "python",
   "pygments_lexer": "ipython3",
   "version": "3.11.8"
  }
 },
 "nbformat": 4,
 "nbformat_minor": 2
}
